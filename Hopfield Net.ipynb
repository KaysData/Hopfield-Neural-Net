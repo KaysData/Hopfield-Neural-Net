{
 "cells": [
  {
   "cell_type": "markdown",
   "metadata": {},
   "source": [
    " Hopfield Net"
   ]
  },
  {
   "cell_type": "code",
   "execution_count": 35,
   "metadata": {
    "collapsed": false
   },
   "outputs": [],
   "source": [
    "import numpy as np "
   ]
  },
  {
   "cell_type": "code",
   "execution_count": 36,
   "metadata": {
    "collapsed": false
   },
   "outputs": [],
   "source": [
    "pattern1 = np.array([-1,1,1,-1,1]).reshape(1,5)\n",
    "pattern2 = np.array([1,-1,1,-1,1]).reshape(1,5)"
   ]
  },
  {
   "cell_type": "code",
   "execution_count": 37,
   "metadata": {
    "collapsed": false
   },
   "outputs": [
    {
     "name": "stdout",
     "output_type": "stream",
     "text": [
      "[ 0.2]\n"
     ]
    }
   ],
   "source": [
    "constantMultiple = 1/np.array([5]).astype(float)\n",
    "constMult = constantMultiple\n",
    "print constantMultiple "
   ]
  },
  {
   "cell_type": "markdown",
   "metadata": {},
   "source": [
    "\"Training\""
   ]
  },
  {
   "cell_type": "code",
   "execution_count": 38,
   "metadata": {
    "collapsed": false
   },
   "outputs": [
    {
     "name": "stdout",
     "output_type": "stream",
     "text": [
      "[[ 0.  -0.4  0.   0.   0. ]\n",
      " [-0.4  0.   0.   0.   0. ]\n",
      " [ 0.   0.   0.  -0.4  0.4]\n",
      " [ 0.   0.  -0.4  0.  -0.4]\n",
      " [ 0.   0.   0.4 -0.4  0. ]]\n",
      "(5, 5)\n"
     ]
    }
   ],
   "source": [
    "W = (constMult * np.dot(pattern1.transpose(),pattern1) + \n",
    "     constMult * np.dot(pattern2.transpose(),pattern2) +\n",
    "     -constMult * 2* np.identity(5) )\n",
    "print W\n",
    "print np.shape(W)"
   ]
  },
  {
   "cell_type": "markdown",
   "metadata": {},
   "source": [
    "Probing Pattern"
   ]
  },
  {
   "cell_type": "code",
   "execution_count": 39,
   "metadata": {
    "collapsed": true
   },
   "outputs": [],
   "source": [
    "I = np.array([1,1,1,1,1]).reshape(1,5)\n",
    "V = I\n",
    "T = np.array([0.70, 0.9, 0.43, 0.70, 0.79])"
   ]
  },
  {
   "cell_type": "markdown",
   "metadata": {},
   "source": [
    "Dynamic Evolution"
   ]
  },
  {
   "cell_type": "code",
   "execution_count": 40,
   "metadata": {
    "collapsed": false
   },
   "outputs": [
    {
     "name": "stdout",
     "output_type": "stream",
     "text": [
      "firingOrder2\n",
      "node updating: 2\n",
      "V [[ 1 -1  1  1  1]] \n",
      "\n",
      "node updating: 4\n",
      "V [[ 1 -1  1 -1  1]] \n",
      "\n",
      "node updating: 3\n",
      "V [[ 1 -1  1 -1  1]] \n",
      "\n",
      "node updating: 5\n",
      "V [[ 1 -1  1 -1  1]] \n",
      "\n",
      "node updating: 1\n",
      "V [[ 1 -1  1 -1  1]] \n",
      "\n",
      "node updating: 2\n",
      "V [[ 1 -1  1 -1  1]] \n",
      "\n",
      "node updating: 4\n",
      "V [[ 1 -1  1 -1  1]] \n",
      "\n",
      "node updating: 3\n",
      "V [[ 1 -1  1 -1  1]] \n",
      "\n",
      "node updating: 5\n",
      "V [[ 1 -1  1 -1  1]] \n",
      "\n",
      "node updating: 1\n",
      "V [[ 1 -1  1 -1  1]] \n",
      "\n"
     ]
    }
   ],
   "source": [
    "firingOrder1 = (np.array([3,1,5,2,4,3,1,5,2,4])-1).reshape(1,10)\n",
    "firingOrder2 =(np.array([2,4,3,5,1,2,4,3,5,1])-1).reshape(1,10)\n",
    "#firingOrder2 = firingOrder1\n",
    "\n",
    "#print 'firingOrder1'\n",
    "print 'firingOrder2'\n",
    "\n",
    "#Dynamic Evolution\n",
    "for i in range(10):\n",
    "    \n",
    "    VW = np.dot(V,W)\n",
    "    output = np.sign(VW + I - T) \n",
    "    Vindex = firingOrder2[0,i]\n",
    "    print \"node updating:\", (firingOrder2[0,i]+1)\n",
    "    #print \"output\", output\n",
    "    V[0,Vindex]=output[0,firingOrder2[0,i]]\n",
    "    print\"V\", V, \"\\n\"\n"
   ]
  }
 ],
 "metadata": {
  "kernelspec": {
   "display_name": "Python 2",
   "language": "python",
   "name": "python2"
  },
  "language_info": {
   "codemirror_mode": {
    "name": "ipython",
    "version": 2
   },
   "file_extension": ".py",
   "mimetype": "text/x-python",
   "name": "python",
   "nbconvert_exporter": "python",
   "pygments_lexer": "ipython2",
   "version": "2.7.10"
  }
 },
 "nbformat": 4,
 "nbformat_minor": 2
}
